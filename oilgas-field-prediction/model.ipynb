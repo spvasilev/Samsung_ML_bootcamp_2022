{
  "nbformat": 4,
  "nbformat_minor": 0,
  "metadata": {
    "colab": {
      "name": "Копия блокнота \"Решение 4 задачи.ipynb\"",
      "provenance": []
    },
    "kernelspec": {
      "name": "python3",
      "display_name": "Python 3"
    },
    "language_info": {
      "name": "python"
    }
  },
  "cells": [
    {
      "cell_type": "code",
      "execution_count": null,
      "metadata": {
        "colab": {
          "resources": {
            "http://localhost:8080/nbextensions/google.colab/files.js": {
              "data": "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",
              "ok": true,
              "headers": [
                [
                  "content-type",
                  "application/javascript"
                ]
              ],
              "status": 200,
              "status_text": ""
            }
          },
          "base_uri": "https://localhost:8080/",
          "height": 108
        },
        "id": "ZYwTC7LC26Yg",
        "outputId": "1c0a1447-42c7-4826-87de-5c7f25bb69d0"
      },
      "outputs": [
        {
          "output_type": "display_data",
          "data": {
            "text/plain": [
              "<IPython.core.display.HTML object>"
            ],
            "text/html": [
              "\n",
              "     <input type=\"file\" id=\"files-ab9230de-b045-46a9-8e6b-73f3b4ab7783\" name=\"files[]\" multiple disabled\n",
              "        style=\"border:none\" />\n",
              "     <output id=\"result-ab9230de-b045-46a9-8e6b-73f3b4ab7783\">\n",
              "      Upload widget is only available when the cell has been executed in the\n",
              "      current browser session. Please rerun this cell to enable.\n",
              "      </output>\n",
              "      <script src=\"/nbextensions/google.colab/files.js\"></script> "
            ]
          },
          "metadata": {}
        },
        {
          "output_type": "stream",
          "name": "stdout",
          "text": [
            "Saving train_oil.csv to train_oil.csv\n",
            "Saving oil_test.csv to oil_test.csv\n"
          ]
        }
      ],
      "source": [
        "from google.colab import files\n",
        "uploaded = files.upload()"
      ]
    },
    {
      "cell_type": "code",
      "source": [
        "# иморитирование всех необходимых библиотек\n",
        "import pandas as pd\n",
        "import seaborn as sns\n",
        "import matplotlib.pyplot as plt"
      ],
      "metadata": {
        "id": "_vq8sVYb3YHI"
      },
      "execution_count": 1,
      "outputs": []
    },
    {
      "cell_type": "code",
      "source": [
        "# Считываем тренировочные данные\n",
        "train = pd.read_csv(\"train_oil.csv\")\n",
        "\n",
        "print(f\"Train dataset shape: {train.shape}\")"
      ],
      "metadata": {
        "colab": {
          "base_uri": "https://localhost:8080/"
        },
        "id": "7IKq3g9u3al_",
        "outputId": "14505b88-4bd1-4074-a32e-074f98f0c759"
      },
      "execution_count": 2,
      "outputs": [
        {
          "output_type": "stream",
          "name": "stdout",
          "text": [
            "Train dataset shape: (309, 20)\n"
          ]
        }
      ]
    },
    {
      "cell_type": "code",
      "source": [
        "# Считываем тестовые данные\n",
        "test = pd.read_csv(\"oil_test.csv\")\n",
        "\n",
        "print(f\"Test dataset shape: {test.shape}\")"
      ],
      "metadata": {
        "colab": {
          "base_uri": "https://localhost:8080/"
        },
        "id": "LFEsvxGQ3b7T",
        "outputId": "0d584147-9720-487a-f3e9-169b6b101608"
      },
      "execution_count": 3,
      "outputs": [
        {
          "output_type": "stream",
          "name": "stdout",
          "text": [
            "Test dataset shape: (133, 19)\n"
          ]
        }
      ]
    },
    {
      "cell_type": "code",
      "source": [
        "train['Onshore/Offshore'].value_counts()"
      ],
      "metadata": {
        "colab": {
          "base_uri": "https://localhost:8080/"
        },
        "id": "Ux662Pck3dLM",
        "outputId": "212d0c01-140d-49c0-c690-26f6f440c20b"
      },
      "execution_count": 4,
      "outputs": [
        {
          "output_type": "execute_result",
          "data": {
            "text/plain": [
              "ONSHORE             218\n",
              "OFFSHORE             86\n",
              "ONSHORE-OFFSHORE      5\n",
              "Name: Onshore/Offshore, dtype: int64"
            ]
          },
          "metadata": {},
          "execution_count": 4
        }
      ]
    },
    {
      "cell_type": "markdown",
      "source": [
        "## Предобработка данных"
      ],
      "metadata": {
        "id": "R36GG18a5Mi4"
      }
    },
    {
      "cell_type": "markdown",
      "source": [
        "### Тренировочный набора данных"
      ],
      "metadata": {
        "id": "ydPsi_kr5P--"
      }
    },
    {
      "cell_type": "code",
      "source": [
        "train = train.drop(columns=['Country', 'Basin name', 'Region', 'Longitude', 'Latitude'])"
      ],
      "metadata": {
        "id": "EQgXJEJv3iaT"
      },
      "execution_count": 5,
      "outputs": []
    },
    {
      "cell_type": "code",
      "source": [
        "train.isna().sum()"
      ],
      "metadata": {
        "colab": {
          "base_uri": "https://localhost:8080/"
        },
        "id": "ohd_o7t03ssi",
        "outputId": "5f856ed7-6714-4528-de70-a536a33d25f8"
      },
      "execution_count": 6,
      "outputs": [
        {
          "output_type": "execute_result",
          "data": {
            "text/plain": [
              "Field name                        0\n",
              "Reservoir unit                    0\n",
              "Tectonic regime                   0\n",
              "Operator company                  0\n",
              "Onshore/Offshore                  0\n",
              "Hydrocarbon type                  0\n",
              "Reservoir status                  0\n",
              "Structural setting                0\n",
              "Depth                             0\n",
              "Reservoir period                  0\n",
              "Lithology                         0\n",
              "Thickness (gross average ft)      0\n",
              "Thickness (net pay average ft)    0\n",
              "Porosity                          0\n",
              "Permeability                      0\n",
              "dtype: int64"
            ]
          },
          "metadata": {},
          "execution_count": 6
        }
      ]
    },
    {
      "cell_type": "code",
      "source": [
        "train.head()"
      ],
      "metadata": {
        "colab": {
          "base_uri": "https://localhost:8080/",
          "height": 409
        },
        "id": "Owt9A7RUHZu1",
        "outputId": "ed10f86b-8fa2-4db5-9f36-a3d463b57e3a"
      },
      "execution_count": 7,
      "outputs": [
        {
          "output_type": "execute_result",
          "data": {
            "text/plain": [
              "     Field name           Reservoir unit        Tectonic regime  \\\n",
              "0       ZHIRNOV              MELEKESKIAN  COMPRESSION/EVAPORITE   \n",
              "1   LAGOA PARDA  LAGOA PARDA (URUCUTUCA)              EXTENSION   \n",
              "2        ABQAIQ                   ARAB D  COMPRESSION/EVAPORITE   \n",
              "3     MURCHISON                    BRENT              EXTENSION   \n",
              "4  WEST PEMBINA   NISKU (PEMBINA L POOL)            COMPRESSION   \n",
              "\n",
              "   Operator company Onshore/Offshore Hydrocarbon type      Reservoir status  \\\n",
              "0  NIZHNEVOLZHSKNET          ONSHORE              OIL  DECLINING PRODUCTION   \n",
              "1         PETROBRAS          ONSHORE              OIL       NEARLY DEPLETED   \n",
              "2      SAUDI ARAMCO          ONSHORE              OIL          REJUVENATING   \n",
              "3               CNR         OFFSHORE              OIL       NEARLY DEPLETED   \n",
              "4          NUMEROUS          ONSHORE              OIL               UNKNOWN   \n",
              "\n",
              "  Structural setting  Depth Reservoir period  Lithology  \\\n",
              "0           FORELAND   1870    CARBONIFEROUS  SANDSTONE   \n",
              "1     PASSIVE MARGIN   4843        PALEOGENE  SANDSTONE   \n",
              "2           FORELAND   6050         JURASSIC  LIMESTONE   \n",
              "3               RIFT   8988         JURASSIC  SANDSTONE   \n",
              "4           FORELAND   9306         DEVONIAN   DOLOMITE   \n",
              "\n",
              "   Thickness (gross average ft)  Thickness (net pay average ft)  Porosity  \\\n",
              "0                         262.0                            33.0      24.0   \n",
              "1                        2133.0                            72.0      23.0   \n",
              "2                         250.0                           184.0      21.0   \n",
              "3                         425.0                           300.0      22.0   \n",
              "4                         233.0                           167.0      11.8   \n",
              "\n",
              "   Permeability  \n",
              "0          30.0  \n",
              "1         350.0  \n",
              "2         410.0  \n",
              "3         750.0  \n",
              "4        1407.0  "
            ],
            "text/html": [
              "\n",
              "  <div id=\"df-3035df85-c83f-440f-81e0-ec0f5389a833\">\n",
              "    <div class=\"colab-df-container\">\n",
              "      <div>\n",
              "<style scoped>\n",
              "    .dataframe tbody tr th:only-of-type {\n",
              "        vertical-align: middle;\n",
              "    }\n",
              "\n",
              "    .dataframe tbody tr th {\n",
              "        vertical-align: top;\n",
              "    }\n",
              "\n",
              "    .dataframe thead th {\n",
              "        text-align: right;\n",
              "    }\n",
              "</style>\n",
              "<table border=\"1\" class=\"dataframe\">\n",
              "  <thead>\n",
              "    <tr style=\"text-align: right;\">\n",
              "      <th></th>\n",
              "      <th>Field name</th>\n",
              "      <th>Reservoir unit</th>\n",
              "      <th>Tectonic regime</th>\n",
              "      <th>Operator company</th>\n",
              "      <th>Onshore/Offshore</th>\n",
              "      <th>Hydrocarbon type</th>\n",
              "      <th>Reservoir status</th>\n",
              "      <th>Structural setting</th>\n",
              "      <th>Depth</th>\n",
              "      <th>Reservoir period</th>\n",
              "      <th>Lithology</th>\n",
              "      <th>Thickness (gross average ft)</th>\n",
              "      <th>Thickness (net pay average ft)</th>\n",
              "      <th>Porosity</th>\n",
              "      <th>Permeability</th>\n",
              "    </tr>\n",
              "  </thead>\n",
              "  <tbody>\n",
              "    <tr>\n",
              "      <th>0</th>\n",
              "      <td>ZHIRNOV</td>\n",
              "      <td>MELEKESKIAN</td>\n",
              "      <td>COMPRESSION/EVAPORITE</td>\n",
              "      <td>NIZHNEVOLZHSKNET</td>\n",
              "      <td>ONSHORE</td>\n",
              "      <td>OIL</td>\n",
              "      <td>DECLINING PRODUCTION</td>\n",
              "      <td>FORELAND</td>\n",
              "      <td>1870</td>\n",
              "      <td>CARBONIFEROUS</td>\n",
              "      <td>SANDSTONE</td>\n",
              "      <td>262.0</td>\n",
              "      <td>33.0</td>\n",
              "      <td>24.0</td>\n",
              "      <td>30.0</td>\n",
              "    </tr>\n",
              "    <tr>\n",
              "      <th>1</th>\n",
              "      <td>LAGOA PARDA</td>\n",
              "      <td>LAGOA PARDA (URUCUTUCA)</td>\n",
              "      <td>EXTENSION</td>\n",
              "      <td>PETROBRAS</td>\n",
              "      <td>ONSHORE</td>\n",
              "      <td>OIL</td>\n",
              "      <td>NEARLY DEPLETED</td>\n",
              "      <td>PASSIVE MARGIN</td>\n",
              "      <td>4843</td>\n",
              "      <td>PALEOGENE</td>\n",
              "      <td>SANDSTONE</td>\n",
              "      <td>2133.0</td>\n",
              "      <td>72.0</td>\n",
              "      <td>23.0</td>\n",
              "      <td>350.0</td>\n",
              "    </tr>\n",
              "    <tr>\n",
              "      <th>2</th>\n",
              "      <td>ABQAIQ</td>\n",
              "      <td>ARAB D</td>\n",
              "      <td>COMPRESSION/EVAPORITE</td>\n",
              "      <td>SAUDI ARAMCO</td>\n",
              "      <td>ONSHORE</td>\n",
              "      <td>OIL</td>\n",
              "      <td>REJUVENATING</td>\n",
              "      <td>FORELAND</td>\n",
              "      <td>6050</td>\n",
              "      <td>JURASSIC</td>\n",
              "      <td>LIMESTONE</td>\n",
              "      <td>250.0</td>\n",
              "      <td>184.0</td>\n",
              "      <td>21.0</td>\n",
              "      <td>410.0</td>\n",
              "    </tr>\n",
              "    <tr>\n",
              "      <th>3</th>\n",
              "      <td>MURCHISON</td>\n",
              "      <td>BRENT</td>\n",
              "      <td>EXTENSION</td>\n",
              "      <td>CNR</td>\n",
              "      <td>OFFSHORE</td>\n",
              "      <td>OIL</td>\n",
              "      <td>NEARLY DEPLETED</td>\n",
              "      <td>RIFT</td>\n",
              "      <td>8988</td>\n",
              "      <td>JURASSIC</td>\n",
              "      <td>SANDSTONE</td>\n",
              "      <td>425.0</td>\n",
              "      <td>300.0</td>\n",
              "      <td>22.0</td>\n",
              "      <td>750.0</td>\n",
              "    </tr>\n",
              "    <tr>\n",
              "      <th>4</th>\n",
              "      <td>WEST PEMBINA</td>\n",
              "      <td>NISKU (PEMBINA L POOL)</td>\n",
              "      <td>COMPRESSION</td>\n",
              "      <td>NUMEROUS</td>\n",
              "      <td>ONSHORE</td>\n",
              "      <td>OIL</td>\n",
              "      <td>UNKNOWN</td>\n",
              "      <td>FORELAND</td>\n",
              "      <td>9306</td>\n",
              "      <td>DEVONIAN</td>\n",
              "      <td>DOLOMITE</td>\n",
              "      <td>233.0</td>\n",
              "      <td>167.0</td>\n",
              "      <td>11.8</td>\n",
              "      <td>1407.0</td>\n",
              "    </tr>\n",
              "  </tbody>\n",
              "</table>\n",
              "</div>\n",
              "      <button class=\"colab-df-convert\" onclick=\"convertToInteractive('df-3035df85-c83f-440f-81e0-ec0f5389a833')\"\n",
              "              title=\"Convert this dataframe to an interactive table.\"\n",
              "              style=\"display:none;\">\n",
              "        \n",
              "  <svg xmlns=\"http://www.w3.org/2000/svg\" height=\"24px\"viewBox=\"0 0 24 24\"\n",
              "       width=\"24px\">\n",
              "    <path d=\"M0 0h24v24H0V0z\" fill=\"none\"/>\n",
              "    <path d=\"M18.56 5.44l.94 2.06.94-2.06 2.06-.94-2.06-.94-.94-2.06-.94 2.06-2.06.94zm-11 1L8.5 8.5l.94-2.06 2.06-.94-2.06-.94L8.5 2.5l-.94 2.06-2.06.94zm10 10l.94 2.06.94-2.06 2.06-.94-2.06-.94-.94-2.06-.94 2.06-2.06.94z\"/><path d=\"M17.41 7.96l-1.37-1.37c-.4-.4-.92-.59-1.43-.59-.52 0-1.04.2-1.43.59L10.3 9.45l-7.72 7.72c-.78.78-.78 2.05 0 2.83L4 21.41c.39.39.9.59 1.41.59.51 0 1.02-.2 1.41-.59l7.78-7.78 2.81-2.81c.8-.78.8-2.07 0-2.86zM5.41 20L4 18.59l7.72-7.72 1.47 1.35L5.41 20z\"/>\n",
              "  </svg>\n",
              "      </button>\n",
              "      \n",
              "  <style>\n",
              "    .colab-df-container {\n",
              "      display:flex;\n",
              "      flex-wrap:wrap;\n",
              "      gap: 12px;\n",
              "    }\n",
              "\n",
              "    .colab-df-convert {\n",
              "      background-color: #E8F0FE;\n",
              "      border: none;\n",
              "      border-radius: 50%;\n",
              "      cursor: pointer;\n",
              "      display: none;\n",
              "      fill: #1967D2;\n",
              "      height: 32px;\n",
              "      padding: 0 0 0 0;\n",
              "      width: 32px;\n",
              "    }\n",
              "\n",
              "    .colab-df-convert:hover {\n",
              "      background-color: #E2EBFA;\n",
              "      box-shadow: 0px 1px 2px rgba(60, 64, 67, 0.3), 0px 1px 3px 1px rgba(60, 64, 67, 0.15);\n",
              "      fill: #174EA6;\n",
              "    }\n",
              "\n",
              "    [theme=dark] .colab-df-convert {\n",
              "      background-color: #3B4455;\n",
              "      fill: #D2E3FC;\n",
              "    }\n",
              "\n",
              "    [theme=dark] .colab-df-convert:hover {\n",
              "      background-color: #434B5C;\n",
              "      box-shadow: 0px 1px 3px 1px rgba(0, 0, 0, 0.15);\n",
              "      filter: drop-shadow(0px 1px 2px rgba(0, 0, 0, 0.3));\n",
              "      fill: #FFFFFF;\n",
              "    }\n",
              "  </style>\n",
              "\n",
              "      <script>\n",
              "        const buttonEl =\n",
              "          document.querySelector('#df-3035df85-c83f-440f-81e0-ec0f5389a833 button.colab-df-convert');\n",
              "        buttonEl.style.display =\n",
              "          google.colab.kernel.accessAllowed ? 'block' : 'none';\n",
              "\n",
              "        async function convertToInteractive(key) {\n",
              "          const element = document.querySelector('#df-3035df85-c83f-440f-81e0-ec0f5389a833');\n",
              "          const dataTable =\n",
              "            await google.colab.kernel.invokeFunction('convertToInteractive',\n",
              "                                                     [key], {});\n",
              "          if (!dataTable) return;\n",
              "\n",
              "          const docLinkHtml = 'Like what you see? Visit the ' +\n",
              "            '<a target=\"_blank\" href=https://colab.research.google.com/notebooks/data_table.ipynb>data table notebook</a>'\n",
              "            + ' to learn more about interactive tables.';\n",
              "          element.innerHTML = '';\n",
              "          dataTable['output_type'] = 'display_data';\n",
              "          await google.colab.output.renderOutput(dataTable, element);\n",
              "          const docLink = document.createElement('div');\n",
              "          docLink.innerHTML = docLinkHtml;\n",
              "          element.appendChild(docLink);\n",
              "        }\n",
              "      </script>\n",
              "    </div>\n",
              "  </div>\n",
              "  "
            ]
          },
          "metadata": {},
          "execution_count": 7
        }
      ]
    },
    {
      "cell_type": "code",
      "source": [
        "tmp = train.copy()\n",
        "tmp = tmp['Tectonic regime'].str.get_dummies('/').add_prefix('regime_').reset_index(drop=True)\n",
        "tmp.head()"
      ],
      "metadata": {
        "colab": {
          "base_uri": "https://localhost:8080/",
          "height": 288
        },
        "id": "sE9r5Z643tDb",
        "outputId": "bc3560fd-4b89-4db6-de69-07743f1843be"
      },
      "execution_count": 8,
      "outputs": [
        {
          "output_type": "execute_result",
          "data": {
            "text/plain": [
              "   regime_BASEMENT-I  regime_COMPRESSION  regime_DIAPIR  regime_EROSION  \\\n",
              "0                  0                   1              0               0   \n",
              "1                  0                   0              0               0   \n",
              "2                  0                   1              0               0   \n",
              "3                  0                   0              0               0   \n",
              "4                  0                   1              0               0   \n",
              "\n",
              "   regime_EVAPORITE  regime_EXTENSION  regime_GRAVITY  regime_INVERSION  \\\n",
              "0                 1                 0               0                 0   \n",
              "1                 0                 1               0                 0   \n",
              "2                 1                 0               0                 0   \n",
              "3                 0                 1               0                 0   \n",
              "4                 0                 0               0                 0   \n",
              "\n",
              "   regime_LINKED  regime_REACTIVATION  regime_SHALE  regime_STRIKE-SLIP  \\\n",
              "0              0                    0             0                   0   \n",
              "1              0                    0             0                   0   \n",
              "2              0                    0             0                   0   \n",
              "3              0                    0             0                   0   \n",
              "4              0                    0             0                   0   \n",
              "\n",
              "   regime_SYNSEDIMENTATION  regime_TRANSPRESSION  regime_TRANSTENSION  \\\n",
              "0                        0                     0                    0   \n",
              "1                        0                     0                    0   \n",
              "2                        0                     0                    0   \n",
              "3                        0                     0                    0   \n",
              "4                        0                     0                    0   \n",
              "\n",
              "   regime_UPLIFT  \n",
              "0              0  \n",
              "1              0  \n",
              "2              0  \n",
              "3              0  \n",
              "4              0  "
            ],
            "text/html": [
              "\n",
              "  <div id=\"df-5b94a82d-a8dd-4637-a76a-32b7157b2c5d\">\n",
              "    <div class=\"colab-df-container\">\n",
              "      <div>\n",
              "<style scoped>\n",
              "    .dataframe tbody tr th:only-of-type {\n",
              "        vertical-align: middle;\n",
              "    }\n",
              "\n",
              "    .dataframe tbody tr th {\n",
              "        vertical-align: top;\n",
              "    }\n",
              "\n",
              "    .dataframe thead th {\n",
              "        text-align: right;\n",
              "    }\n",
              "</style>\n",
              "<table border=\"1\" class=\"dataframe\">\n",
              "  <thead>\n",
              "    <tr style=\"text-align: right;\">\n",
              "      <th></th>\n",
              "      <th>regime_BASEMENT-I</th>\n",
              "      <th>regime_COMPRESSION</th>\n",
              "      <th>regime_DIAPIR</th>\n",
              "      <th>regime_EROSION</th>\n",
              "      <th>regime_EVAPORITE</th>\n",
              "      <th>regime_EXTENSION</th>\n",
              "      <th>regime_GRAVITY</th>\n",
              "      <th>regime_INVERSION</th>\n",
              "      <th>regime_LINKED</th>\n",
              "      <th>regime_REACTIVATION</th>\n",
              "      <th>regime_SHALE</th>\n",
              "      <th>regime_STRIKE-SLIP</th>\n",
              "      <th>regime_SYNSEDIMENTATION</th>\n",
              "      <th>regime_TRANSPRESSION</th>\n",
              "      <th>regime_TRANSTENSION</th>\n",
              "      <th>regime_UPLIFT</th>\n",
              "    </tr>\n",
              "  </thead>\n",
              "  <tbody>\n",
              "    <tr>\n",
              "      <th>0</th>\n",
              "      <td>0</td>\n",
              "      <td>1</td>\n",
              "      <td>0</td>\n",
              "      <td>0</td>\n",
              "      <td>1</td>\n",
              "      <td>0</td>\n",
              "      <td>0</td>\n",
              "      <td>0</td>\n",
              "      <td>0</td>\n",
              "      <td>0</td>\n",
              "      <td>0</td>\n",
              "      <td>0</td>\n",
              "      <td>0</td>\n",
              "      <td>0</td>\n",
              "      <td>0</td>\n",
              "      <td>0</td>\n",
              "    </tr>\n",
              "    <tr>\n",
              "      <th>1</th>\n",
              "      <td>0</td>\n",
              "      <td>0</td>\n",
              "      <td>0</td>\n",
              "      <td>0</td>\n",
              "      <td>0</td>\n",
              "      <td>1</td>\n",
              "      <td>0</td>\n",
              "      <td>0</td>\n",
              "      <td>0</td>\n",
              "      <td>0</td>\n",
              "      <td>0</td>\n",
              "      <td>0</td>\n",
              "      <td>0</td>\n",
              "      <td>0</td>\n",
              "      <td>0</td>\n",
              "      <td>0</td>\n",
              "    </tr>\n",
              "    <tr>\n",
              "      <th>2</th>\n",
              "      <td>0</td>\n",
              "      <td>1</td>\n",
              "      <td>0</td>\n",
              "      <td>0</td>\n",
              "      <td>1</td>\n",
              "      <td>0</td>\n",
              "      <td>0</td>\n",
              "      <td>0</td>\n",
              "      <td>0</td>\n",
              "      <td>0</td>\n",
              "      <td>0</td>\n",
              "      <td>0</td>\n",
              "      <td>0</td>\n",
              "      <td>0</td>\n",
              "      <td>0</td>\n",
              "      <td>0</td>\n",
              "    </tr>\n",
              "    <tr>\n",
              "      <th>3</th>\n",
              "      <td>0</td>\n",
              "      <td>0</td>\n",
              "      <td>0</td>\n",
              "      <td>0</td>\n",
              "      <td>0</td>\n",
              "      <td>1</td>\n",
              "      <td>0</td>\n",
              "      <td>0</td>\n",
              "      <td>0</td>\n",
              "      <td>0</td>\n",
              "      <td>0</td>\n",
              "      <td>0</td>\n",
              "      <td>0</td>\n",
              "      <td>0</td>\n",
              "      <td>0</td>\n",
              "      <td>0</td>\n",
              "    </tr>\n",
              "    <tr>\n",
              "      <th>4</th>\n",
              "      <td>0</td>\n",
              "      <td>1</td>\n",
              "      <td>0</td>\n",
              "      <td>0</td>\n",
              "      <td>0</td>\n",
              "      <td>0</td>\n",
              "      <td>0</td>\n",
              "      <td>0</td>\n",
              "      <td>0</td>\n",
              "      <td>0</td>\n",
              "      <td>0</td>\n",
              "      <td>0</td>\n",
              "      <td>0</td>\n",
              "      <td>0</td>\n",
              "      <td>0</td>\n",
              "      <td>0</td>\n",
              "    </tr>\n",
              "  </tbody>\n",
              "</table>\n",
              "</div>\n",
              "      <button class=\"colab-df-convert\" onclick=\"convertToInteractive('df-5b94a82d-a8dd-4637-a76a-32b7157b2c5d')\"\n",
              "              title=\"Convert this dataframe to an interactive table.\"\n",
              "              style=\"display:none;\">\n",
              "        \n",
              "  <svg xmlns=\"http://www.w3.org/2000/svg\" height=\"24px\"viewBox=\"0 0 24 24\"\n",
              "       width=\"24px\">\n",
              "    <path d=\"M0 0h24v24H0V0z\" fill=\"none\"/>\n",
              "    <path d=\"M18.56 5.44l.94 2.06.94-2.06 2.06-.94-2.06-.94-.94-2.06-.94 2.06-2.06.94zm-11 1L8.5 8.5l.94-2.06 2.06-.94-2.06-.94L8.5 2.5l-.94 2.06-2.06.94zm10 10l.94 2.06.94-2.06 2.06-.94-2.06-.94-.94-2.06-.94 2.06-2.06.94z\"/><path d=\"M17.41 7.96l-1.37-1.37c-.4-.4-.92-.59-1.43-.59-.52 0-1.04.2-1.43.59L10.3 9.45l-7.72 7.72c-.78.78-.78 2.05 0 2.83L4 21.41c.39.39.9.59 1.41.59.51 0 1.02-.2 1.41-.59l7.78-7.78 2.81-2.81c.8-.78.8-2.07 0-2.86zM5.41 20L4 18.59l7.72-7.72 1.47 1.35L5.41 20z\"/>\n",
              "  </svg>\n",
              "      </button>\n",
              "      \n",
              "  <style>\n",
              "    .colab-df-container {\n",
              "      display:flex;\n",
              "      flex-wrap:wrap;\n",
              "      gap: 12px;\n",
              "    }\n",
              "\n",
              "    .colab-df-convert {\n",
              "      background-color: #E8F0FE;\n",
              "      border: none;\n",
              "      border-radius: 50%;\n",
              "      cursor: pointer;\n",
              "      display: none;\n",
              "      fill: #1967D2;\n",
              "      height: 32px;\n",
              "      padding: 0 0 0 0;\n",
              "      width: 32px;\n",
              "    }\n",
              "\n",
              "    .colab-df-convert:hover {\n",
              "      background-color: #E2EBFA;\n",
              "      box-shadow: 0px 1px 2px rgba(60, 64, 67, 0.3), 0px 1px 3px 1px rgba(60, 64, 67, 0.15);\n",
              "      fill: #174EA6;\n",
              "    }\n",
              "\n",
              "    [theme=dark] .colab-df-convert {\n",
              "      background-color: #3B4455;\n",
              "      fill: #D2E3FC;\n",
              "    }\n",
              "\n",
              "    [theme=dark] .colab-df-convert:hover {\n",
              "      background-color: #434B5C;\n",
              "      box-shadow: 0px 1px 3px 1px rgba(0, 0, 0, 0.15);\n",
              "      filter: drop-shadow(0px 1px 2px rgba(0, 0, 0, 0.3));\n",
              "      fill: #FFFFFF;\n",
              "    }\n",
              "  </style>\n",
              "\n",
              "      <script>\n",
              "        const buttonEl =\n",
              "          document.querySelector('#df-5b94a82d-a8dd-4637-a76a-32b7157b2c5d button.colab-df-convert');\n",
              "        buttonEl.style.display =\n",
              "          google.colab.kernel.accessAllowed ? 'block' : 'none';\n",
              "\n",
              "        async function convertToInteractive(key) {\n",
              "          const element = document.querySelector('#df-5b94a82d-a8dd-4637-a76a-32b7157b2c5d');\n",
              "          const dataTable =\n",
              "            await google.colab.kernel.invokeFunction('convertToInteractive',\n",
              "                                                     [key], {});\n",
              "          if (!dataTable) return;\n",
              "\n",
              "          const docLinkHtml = 'Like what you see? Visit the ' +\n",
              "            '<a target=\"_blank\" href=https://colab.research.google.com/notebooks/data_table.ipynb>data table notebook</a>'\n",
              "            + ' to learn more about interactive tables.';\n",
              "          element.innerHTML = '';\n",
              "          dataTable['output_type'] = 'display_data';\n",
              "          await google.colab.output.renderOutput(dataTable, element);\n",
              "          const docLink = document.createElement('div');\n",
              "          docLink.innerHTML = docLinkHtml;\n",
              "          element.appendChild(docLink);\n",
              "        }\n",
              "      </script>\n",
              "    </div>\n",
              "  </div>\n",
              "  "
            ]
          },
          "metadata": {},
          "execution_count": 8
        }
      ]
    },
    {
      "cell_type": "code",
      "source": [
        "tmp.shape"
      ],
      "metadata": {
        "colab": {
          "base_uri": "https://localhost:8080/"
        },
        "id": "MUl7P1LtHyQy",
        "outputId": "0fa28f82-8469-4f9b-c9e5-2dcb67e28427"
      },
      "execution_count": 9,
      "outputs": [
        {
          "output_type": "execute_result",
          "data": {
            "text/plain": [
              "(309, 16)"
            ]
          },
          "metadata": {},
          "execution_count": 9
        }
      ]
    },
    {
      "cell_type": "code",
      "source": [
        "train_full = pd.concat([train, tmp], axis=1)\n",
        "train_full"
      ],
      "metadata": {
        "colab": {
          "base_uri": "https://localhost:8080/",
          "height": 679
        },
        "id": "ka8fjisR4JqT",
        "outputId": "d5d956b4-4335-4371-e333-f6775849733a"
      },
      "execution_count": 10,
      "outputs": [
        {
          "output_type": "execute_result",
          "data": {
            "text/plain": [
              "            Field name                  Reservoir unit  \\\n",
              "0              ZHIRNOV                     MELEKESKIAN   \n",
              "1          LAGOA PARDA         LAGOA PARDA (URUCUTUCA)   \n",
              "2               ABQAIQ                          ARAB D   \n",
              "3            MURCHISON                           BRENT   \n",
              "4         WEST PEMBINA          NISKU (PEMBINA L POOL)   \n",
              "..                 ...                             ...   \n",
              "304              HIDES                     IMBURU-TORO   \n",
              "305        DRAKE POINT      DRAKE POINT-INTREPID INLET   \n",
              "306  ALTAMONT-BLUEBELL  GREEN RIVER AND COLTON/WASATCH   \n",
              "307         BELL CREEK                           MUDDY   \n",
              "308          WELL DRAW         MESAVERDE (TEAPOT SAND)   \n",
              "\n",
              "                            Tectonic regime              Operator company  \\\n",
              "0                     COMPRESSION/EVAPORITE              NIZHNEVOLZHSKNET   \n",
              "1                                 EXTENSION                     PETROBRAS   \n",
              "2                     COMPRESSION/EVAPORITE                  SAUDI ARAMCO   \n",
              "3                                 EXTENSION                           CNR   \n",
              "4                               COMPRESSION                      NUMEROUS   \n",
              "..                                      ...                           ...   \n",
              "304                             COMPRESSION                OIL SEARCH LTD   \n",
              "305  COMPRESSION/EVAPORITE/EXTENSION/LINKED                PANARCTIC OILS   \n",
              "306                             COMPRESSION                      NUMEROUS   \n",
              "307                             COMPRESSION                   SAMUEL GARY   \n",
              "308                             COMPRESSION  MATRIX PRODUCTION AND OTHERS   \n",
              "\n",
              "    Onshore/Offshore Hydrocarbon type        Reservoir status  \\\n",
              "0            ONSHORE              OIL    DECLINING PRODUCTION   \n",
              "1            ONSHORE              OIL         NEARLY DEPLETED   \n",
              "2            ONSHORE              OIL            REJUVENATING   \n",
              "3           OFFSHORE              OIL         NEARLY DEPLETED   \n",
              "4            ONSHORE              OIL                 UNKNOWN   \n",
              "..               ...              ...                     ...   \n",
              "304          ONSHORE   GAS-CONDENSATE  CONTINUING DEVELOPMENT   \n",
              "305          ONSHORE              GAS             UNDEVELOPED   \n",
              "306          ONSHORE              OIL       MATURE PRODUCTION   \n",
              "307          ONSHORE              OIL         NEARLY DEPLETED   \n",
              "308          ONSHORE              OIL       MATURE PRODUCTION   \n",
              "\n",
              "    Structural setting  Depth     Reservoir period  ... regime_GRAVITY  \\\n",
              "0             FORELAND   1870        CARBONIFEROUS  ...              0   \n",
              "1       PASSIVE MARGIN   4843            PALEOGENE  ...              0   \n",
              "2             FORELAND   6050             JURASSIC  ...              0   \n",
              "3                 RIFT   8988             JURASSIC  ...              0   \n",
              "4             FORELAND   9306             DEVONIAN  ...              0   \n",
              "..                 ...    ...                  ...  ...            ...   \n",
              "304             THRUST   9905  JURASSIC-CRETACEOUS  ...              0   \n",
              "305           FORELAND   3390             JURASSIC  ...              0   \n",
              "306           FORELAND  15250            PALEOGENE  ...              0   \n",
              "307           FORELAND   4300           CRETACEOUS  ...              0   \n",
              "308           FORELAND   6367           CRETACEOUS  ...              0   \n",
              "\n",
              "     regime_INVERSION  regime_LINKED  regime_REACTIVATION  regime_SHALE  \\\n",
              "0                   0              0                    0             0   \n",
              "1                   0              0                    0             0   \n",
              "2                   0              0                    0             0   \n",
              "3                   0              0                    0             0   \n",
              "4                   0              0                    0             0   \n",
              "..                ...            ...                  ...           ...   \n",
              "304                 0              0                    0             0   \n",
              "305                 0              1                    0             0   \n",
              "306                 0              0                    0             0   \n",
              "307                 0              0                    0             0   \n",
              "308                 0              0                    0             0   \n",
              "\n",
              "     regime_STRIKE-SLIP  regime_SYNSEDIMENTATION  regime_TRANSPRESSION  \\\n",
              "0                     0                        0                     0   \n",
              "1                     0                        0                     0   \n",
              "2                     0                        0                     0   \n",
              "3                     0                        0                     0   \n",
              "4                     0                        0                     0   \n",
              "..                  ...                      ...                   ...   \n",
              "304                   0                        0                     0   \n",
              "305                   0                        0                     0   \n",
              "306                   0                        0                     0   \n",
              "307                   0                        0                     0   \n",
              "308                   0                        0                     0   \n",
              "\n",
              "     regime_TRANSTENSION  regime_UPLIFT  \n",
              "0                      0              0  \n",
              "1                      0              0  \n",
              "2                      0              0  \n",
              "3                      0              0  \n",
              "4                      0              0  \n",
              "..                   ...            ...  \n",
              "304                    0              0  \n",
              "305                    0              0  \n",
              "306                    0              0  \n",
              "307                    0              0  \n",
              "308                    0              0  \n",
              "\n",
              "[309 rows x 31 columns]"
            ],
            "text/html": [
              "\n",
              "  <div id=\"df-c8d06fcf-7875-44dd-96cd-f64659596d70\">\n",
              "    <div class=\"colab-df-container\">\n",
              "      <div>\n",
              "<style scoped>\n",
              "    .dataframe tbody tr th:only-of-type {\n",
              "        vertical-align: middle;\n",
              "    }\n",
              "\n",
              "    .dataframe tbody tr th {\n",
              "        vertical-align: top;\n",
              "    }\n",
              "\n",
              "    .dataframe thead th {\n",
              "        text-align: right;\n",
              "    }\n",
              "</style>\n",
              "<table border=\"1\" class=\"dataframe\">\n",
              "  <thead>\n",
              "    <tr style=\"text-align: right;\">\n",
              "      <th></th>\n",
              "      <th>Field name</th>\n",
              "      <th>Reservoir unit</th>\n",
              "      <th>Tectonic regime</th>\n",
              "      <th>Operator company</th>\n",
              "      <th>Onshore/Offshore</th>\n",
              "      <th>Hydrocarbon type</th>\n",
              "      <th>Reservoir status</th>\n",
              "      <th>Structural setting</th>\n",
              "      <th>Depth</th>\n",
              "      <th>Reservoir period</th>\n",
              "      <th>...</th>\n",
              "      <th>regime_GRAVITY</th>\n",
              "      <th>regime_INVERSION</th>\n",
              "      <th>regime_LINKED</th>\n",
              "      <th>regime_REACTIVATION</th>\n",
              "      <th>regime_SHALE</th>\n",
              "      <th>regime_STRIKE-SLIP</th>\n",
              "      <th>regime_SYNSEDIMENTATION</th>\n",
              "      <th>regime_TRANSPRESSION</th>\n",
              "      <th>regime_TRANSTENSION</th>\n",
              "      <th>regime_UPLIFT</th>\n",
              "    </tr>\n",
              "  </thead>\n",
              "  <tbody>\n",
              "    <tr>\n",
              "      <th>0</th>\n",
              "      <td>ZHIRNOV</td>\n",
              "      <td>MELEKESKIAN</td>\n",
              "      <td>COMPRESSION/EVAPORITE</td>\n",
              "      <td>NIZHNEVOLZHSKNET</td>\n",
              "      <td>ONSHORE</td>\n",
              "      <td>OIL</td>\n",
              "      <td>DECLINING PRODUCTION</td>\n",
              "      <td>FORELAND</td>\n",
              "      <td>1870</td>\n",
              "      <td>CARBONIFEROUS</td>\n",
              "      <td>...</td>\n",
              "      <td>0</td>\n",
              "      <td>0</td>\n",
              "      <td>0</td>\n",
              "      <td>0</td>\n",
              "      <td>0</td>\n",
              "      <td>0</td>\n",
              "      <td>0</td>\n",
              "      <td>0</td>\n",
              "      <td>0</td>\n",
              "      <td>0</td>\n",
              "    </tr>\n",
              "    <tr>\n",
              "      <th>1</th>\n",
              "      <td>LAGOA PARDA</td>\n",
              "      <td>LAGOA PARDA (URUCUTUCA)</td>\n",
              "      <td>EXTENSION</td>\n",
              "      <td>PETROBRAS</td>\n",
              "      <td>ONSHORE</td>\n",
              "      <td>OIL</td>\n",
              "      <td>NEARLY DEPLETED</td>\n",
              "      <td>PASSIVE MARGIN</td>\n",
              "      <td>4843</td>\n",
              "      <td>PALEOGENE</td>\n",
              "      <td>...</td>\n",
              "      <td>0</td>\n",
              "      <td>0</td>\n",
              "      <td>0</td>\n",
              "      <td>0</td>\n",
              "      <td>0</td>\n",
              "      <td>0</td>\n",
              "      <td>0</td>\n",
              "      <td>0</td>\n",
              "      <td>0</td>\n",
              "      <td>0</td>\n",
              "    </tr>\n",
              "    <tr>\n",
              "      <th>2</th>\n",
              "      <td>ABQAIQ</td>\n",
              "      <td>ARAB D</td>\n",
              "      <td>COMPRESSION/EVAPORITE</td>\n",
              "      <td>SAUDI ARAMCO</td>\n",
              "      <td>ONSHORE</td>\n",
              "      <td>OIL</td>\n",
              "      <td>REJUVENATING</td>\n",
              "      <td>FORELAND</td>\n",
              "      <td>6050</td>\n",
              "      <td>JURASSIC</td>\n",
              "      <td>...</td>\n",
              "      <td>0</td>\n",
              "      <td>0</td>\n",
              "      <td>0</td>\n",
              "      <td>0</td>\n",
              "      <td>0</td>\n",
              "      <td>0</td>\n",
              "      <td>0</td>\n",
              "      <td>0</td>\n",
              "      <td>0</td>\n",
              "      <td>0</td>\n",
              "    </tr>\n",
              "    <tr>\n",
              "      <th>3</th>\n",
              "      <td>MURCHISON</td>\n",
              "      <td>BRENT</td>\n",
              "      <td>EXTENSION</td>\n",
              "      <td>CNR</td>\n",
              "      <td>OFFSHORE</td>\n",
              "      <td>OIL</td>\n",
              "      <td>NEARLY DEPLETED</td>\n",
              "      <td>RIFT</td>\n",
              "      <td>8988</td>\n",
              "      <td>JURASSIC</td>\n",
              "      <td>...</td>\n",
              "      <td>0</td>\n",
              "      <td>0</td>\n",
              "      <td>0</td>\n",
              "      <td>0</td>\n",
              "      <td>0</td>\n",
              "      <td>0</td>\n",
              "      <td>0</td>\n",
              "      <td>0</td>\n",
              "      <td>0</td>\n",
              "      <td>0</td>\n",
              "    </tr>\n",
              "    <tr>\n",
              "      <th>4</th>\n",
              "      <td>WEST PEMBINA</td>\n",
              "      <td>NISKU (PEMBINA L POOL)</td>\n",
              "      <td>COMPRESSION</td>\n",
              "      <td>NUMEROUS</td>\n",
              "      <td>ONSHORE</td>\n",
              "      <td>OIL</td>\n",
              "      <td>UNKNOWN</td>\n",
              "      <td>FORELAND</td>\n",
              "      <td>9306</td>\n",
              "      <td>DEVONIAN</td>\n",
              "      <td>...</td>\n",
              "      <td>0</td>\n",
              "      <td>0</td>\n",
              "      <td>0</td>\n",
              "      <td>0</td>\n",
              "      <td>0</td>\n",
              "      <td>0</td>\n",
              "      <td>0</td>\n",
              "      <td>0</td>\n",
              "      <td>0</td>\n",
              "      <td>0</td>\n",
              "    </tr>\n",
              "    <tr>\n",
              "      <th>...</th>\n",
              "      <td>...</td>\n",
              "      <td>...</td>\n",
              "      <td>...</td>\n",
              "      <td>...</td>\n",
              "      <td>...</td>\n",
              "      <td>...</td>\n",
              "      <td>...</td>\n",
              "      <td>...</td>\n",
              "      <td>...</td>\n",
              "      <td>...</td>\n",
              "      <td>...</td>\n",
              "      <td>...</td>\n",
              "      <td>...</td>\n",
              "      <td>...</td>\n",
              "      <td>...</td>\n",
              "      <td>...</td>\n",
              "      <td>...</td>\n",
              "      <td>...</td>\n",
              "      <td>...</td>\n",
              "      <td>...</td>\n",
              "      <td>...</td>\n",
              "    </tr>\n",
              "    <tr>\n",
              "      <th>304</th>\n",
              "      <td>HIDES</td>\n",
              "      <td>IMBURU-TORO</td>\n",
              "      <td>COMPRESSION</td>\n",
              "      <td>OIL SEARCH LTD</td>\n",
              "      <td>ONSHORE</td>\n",
              "      <td>GAS-CONDENSATE</td>\n",
              "      <td>CONTINUING DEVELOPMENT</td>\n",
              "      <td>THRUST</td>\n",
              "      <td>9905</td>\n",
              "      <td>JURASSIC-CRETACEOUS</td>\n",
              "      <td>...</td>\n",
              "      <td>0</td>\n",
              "      <td>0</td>\n",
              "      <td>0</td>\n",
              "      <td>0</td>\n",
              "      <td>0</td>\n",
              "      <td>0</td>\n",
              "      <td>0</td>\n",
              "      <td>0</td>\n",
              "      <td>0</td>\n",
              "      <td>0</td>\n",
              "    </tr>\n",
              "    <tr>\n",
              "      <th>305</th>\n",
              "      <td>DRAKE POINT</td>\n",
              "      <td>DRAKE POINT-INTREPID INLET</td>\n",
              "      <td>COMPRESSION/EVAPORITE/EXTENSION/LINKED</td>\n",
              "      <td>PANARCTIC OILS</td>\n",
              "      <td>ONSHORE</td>\n",
              "      <td>GAS</td>\n",
              "      <td>UNDEVELOPED</td>\n",
              "      <td>FORELAND</td>\n",
              "      <td>3390</td>\n",
              "      <td>JURASSIC</td>\n",
              "      <td>...</td>\n",
              "      <td>0</td>\n",
              "      <td>0</td>\n",
              "      <td>1</td>\n",
              "      <td>0</td>\n",
              "      <td>0</td>\n",
              "      <td>0</td>\n",
              "      <td>0</td>\n",
              "      <td>0</td>\n",
              "      <td>0</td>\n",
              "      <td>0</td>\n",
              "    </tr>\n",
              "    <tr>\n",
              "      <th>306</th>\n",
              "      <td>ALTAMONT-BLUEBELL</td>\n",
              "      <td>GREEN RIVER AND COLTON/WASATCH</td>\n",
              "      <td>COMPRESSION</td>\n",
              "      <td>NUMEROUS</td>\n",
              "      <td>ONSHORE</td>\n",
              "      <td>OIL</td>\n",
              "      <td>MATURE PRODUCTION</td>\n",
              "      <td>FORELAND</td>\n",
              "      <td>15250</td>\n",
              "      <td>PALEOGENE</td>\n",
              "      <td>...</td>\n",
              "      <td>0</td>\n",
              "      <td>0</td>\n",
              "      <td>0</td>\n",
              "      <td>0</td>\n",
              "      <td>0</td>\n",
              "      <td>0</td>\n",
              "      <td>0</td>\n",
              "      <td>0</td>\n",
              "      <td>0</td>\n",
              "      <td>0</td>\n",
              "    </tr>\n",
              "    <tr>\n",
              "      <th>307</th>\n",
              "      <td>BELL CREEK</td>\n",
              "      <td>MUDDY</td>\n",
              "      <td>COMPRESSION</td>\n",
              "      <td>SAMUEL GARY</td>\n",
              "      <td>ONSHORE</td>\n",
              "      <td>OIL</td>\n",
              "      <td>NEARLY DEPLETED</td>\n",
              "      <td>FORELAND</td>\n",
              "      <td>4300</td>\n",
              "      <td>CRETACEOUS</td>\n",
              "      <td>...</td>\n",
              "      <td>0</td>\n",
              "      <td>0</td>\n",
              "      <td>0</td>\n",
              "      <td>0</td>\n",
              "      <td>0</td>\n",
              "      <td>0</td>\n",
              "      <td>0</td>\n",
              "      <td>0</td>\n",
              "      <td>0</td>\n",
              "      <td>0</td>\n",
              "    </tr>\n",
              "    <tr>\n",
              "      <th>308</th>\n",
              "      <td>WELL DRAW</td>\n",
              "      <td>MESAVERDE (TEAPOT SAND)</td>\n",
              "      <td>COMPRESSION</td>\n",
              "      <td>MATRIX PRODUCTION AND OTHERS</td>\n",
              "      <td>ONSHORE</td>\n",
              "      <td>OIL</td>\n",
              "      <td>MATURE PRODUCTION</td>\n",
              "      <td>FORELAND</td>\n",
              "      <td>6367</td>\n",
              "      <td>CRETACEOUS</td>\n",
              "      <td>...</td>\n",
              "      <td>0</td>\n",
              "      <td>0</td>\n",
              "      <td>0</td>\n",
              "      <td>0</td>\n",
              "      <td>0</td>\n",
              "      <td>0</td>\n",
              "      <td>0</td>\n",
              "      <td>0</td>\n",
              "      <td>0</td>\n",
              "      <td>0</td>\n",
              "    </tr>\n",
              "  </tbody>\n",
              "</table>\n",
              "<p>309 rows × 31 columns</p>\n",
              "</div>\n",
              "      <button class=\"colab-df-convert\" onclick=\"convertToInteractive('df-c8d06fcf-7875-44dd-96cd-f64659596d70')\"\n",
              "              title=\"Convert this dataframe to an interactive table.\"\n",
              "              style=\"display:none;\">\n",
              "        \n",
              "  <svg xmlns=\"http://www.w3.org/2000/svg\" height=\"24px\"viewBox=\"0 0 24 24\"\n",
              "       width=\"24px\">\n",
              "    <path d=\"M0 0h24v24H0V0z\" fill=\"none\"/>\n",
              "    <path d=\"M18.56 5.44l.94 2.06.94-2.06 2.06-.94-2.06-.94-.94-2.06-.94 2.06-2.06.94zm-11 1L8.5 8.5l.94-2.06 2.06-.94-2.06-.94L8.5 2.5l-.94 2.06-2.06.94zm10 10l.94 2.06.94-2.06 2.06-.94-2.06-.94-.94-2.06-.94 2.06-2.06.94z\"/><path d=\"M17.41 7.96l-1.37-1.37c-.4-.4-.92-.59-1.43-.59-.52 0-1.04.2-1.43.59L10.3 9.45l-7.72 7.72c-.78.78-.78 2.05 0 2.83L4 21.41c.39.39.9.59 1.41.59.51 0 1.02-.2 1.41-.59l7.78-7.78 2.81-2.81c.8-.78.8-2.07 0-2.86zM5.41 20L4 18.59l7.72-7.72 1.47 1.35L5.41 20z\"/>\n",
              "  </svg>\n",
              "      </button>\n",
              "      \n",
              "  <style>\n",
              "    .colab-df-container {\n",
              "      display:flex;\n",
              "      flex-wrap:wrap;\n",
              "      gap: 12px;\n",
              "    }\n",
              "\n",
              "    .colab-df-convert {\n",
              "      background-color: #E8F0FE;\n",
              "      border: none;\n",
              "      border-radius: 50%;\n",
              "      cursor: pointer;\n",
              "      display: none;\n",
              "      fill: #1967D2;\n",
              "      height: 32px;\n",
              "      padding: 0 0 0 0;\n",
              "      width: 32px;\n",
              "    }\n",
              "\n",
              "    .colab-df-convert:hover {\n",
              "      background-color: #E2EBFA;\n",
              "      box-shadow: 0px 1px 2px rgba(60, 64, 67, 0.3), 0px 1px 3px 1px rgba(60, 64, 67, 0.15);\n",
              "      fill: #174EA6;\n",
              "    }\n",
              "\n",
              "    [theme=dark] .colab-df-convert {\n",
              "      background-color: #3B4455;\n",
              "      fill: #D2E3FC;\n",
              "    }\n",
              "\n",
              "    [theme=dark] .colab-df-convert:hover {\n",
              "      background-color: #434B5C;\n",
              "      box-shadow: 0px 1px 3px 1px rgba(0, 0, 0, 0.15);\n",
              "      filter: drop-shadow(0px 1px 2px rgba(0, 0, 0, 0.3));\n",
              "      fill: #FFFFFF;\n",
              "    }\n",
              "  </style>\n",
              "\n",
              "      <script>\n",
              "        const buttonEl =\n",
              "          document.querySelector('#df-c8d06fcf-7875-44dd-96cd-f64659596d70 button.colab-df-convert');\n",
              "        buttonEl.style.display =\n",
              "          google.colab.kernel.accessAllowed ? 'block' : 'none';\n",
              "\n",
              "        async function convertToInteractive(key) {\n",
              "          const element = document.querySelector('#df-c8d06fcf-7875-44dd-96cd-f64659596d70');\n",
              "          const dataTable =\n",
              "            await google.colab.kernel.invokeFunction('convertToInteractive',\n",
              "                                                     [key], {});\n",
              "          if (!dataTable) return;\n",
              "\n",
              "          const docLinkHtml = 'Like what you see? Visit the ' +\n",
              "            '<a target=\"_blank\" href=https://colab.research.google.com/notebooks/data_table.ipynb>data table notebook</a>'\n",
              "            + ' to learn more about interactive tables.';\n",
              "          element.innerHTML = '';\n",
              "          dataTable['output_type'] = 'display_data';\n",
              "          await google.colab.output.renderOutput(dataTable, element);\n",
              "          const docLink = document.createElement('div');\n",
              "          docLink.innerHTML = docLinkHtml;\n",
              "          element.appendChild(docLink);\n",
              "        }\n",
              "      </script>\n",
              "    </div>\n",
              "  </div>\n",
              "  "
            ]
          },
          "metadata": {},
          "execution_count": 10
        }
      ]
    },
    {
      "cell_type": "code",
      "source": [
        "tmp = train.copy()\n",
        "tmp = tmp['Structural setting'].str.get_dummies('/').add_prefix('Structural setting_').reset_index(drop=True)\n",
        "train_full = pd.concat([train_full, tmp], axis=1)\n",
        "train_full"
      ],
      "metadata": {
        "colab": {
          "base_uri": "https://localhost:8080/",
          "height": 696
        },
        "id": "x_Eye2FH4VqF",
        "outputId": "85550485-cafb-483f-96ac-d4ba404f0fe3"
      },
      "execution_count": 11,
      "outputs": [
        {
          "output_type": "execute_result",
          "data": {
            "text/plain": [
              "            Field name                  Reservoir unit  \\\n",
              "0              ZHIRNOV                     MELEKESKIAN   \n",
              "1          LAGOA PARDA         LAGOA PARDA (URUCUTUCA)   \n",
              "2               ABQAIQ                          ARAB D   \n",
              "3            MURCHISON                           BRENT   \n",
              "4         WEST PEMBINA          NISKU (PEMBINA L POOL)   \n",
              "..                 ...                             ...   \n",
              "304              HIDES                     IMBURU-TORO   \n",
              "305        DRAKE POINT      DRAKE POINT-INTREPID INLET   \n",
              "306  ALTAMONT-BLUEBELL  GREEN RIVER AND COLTON/WASATCH   \n",
              "307         BELL CREEK                           MUDDY   \n",
              "308          WELL DRAW         MESAVERDE (TEAPOT SAND)   \n",
              "\n",
              "                            Tectonic regime              Operator company  \\\n",
              "0                     COMPRESSION/EVAPORITE              NIZHNEVOLZHSKNET   \n",
              "1                                 EXTENSION                     PETROBRAS   \n",
              "2                     COMPRESSION/EVAPORITE                  SAUDI ARAMCO   \n",
              "3                                 EXTENSION                           CNR   \n",
              "4                               COMPRESSION                      NUMEROUS   \n",
              "..                                      ...                           ...   \n",
              "304                             COMPRESSION                OIL SEARCH LTD   \n",
              "305  COMPRESSION/EVAPORITE/EXTENSION/LINKED                PANARCTIC OILS   \n",
              "306                             COMPRESSION                      NUMEROUS   \n",
              "307                             COMPRESSION                   SAMUEL GARY   \n",
              "308                             COMPRESSION  MATRIX PRODUCTION AND OTHERS   \n",
              "\n",
              "    Onshore/Offshore Hydrocarbon type        Reservoir status  \\\n",
              "0            ONSHORE              OIL    DECLINING PRODUCTION   \n",
              "1            ONSHORE              OIL         NEARLY DEPLETED   \n",
              "2            ONSHORE              OIL            REJUVENATING   \n",
              "3           OFFSHORE              OIL         NEARLY DEPLETED   \n",
              "4            ONSHORE              OIL                 UNKNOWN   \n",
              "..               ...              ...                     ...   \n",
              "304          ONSHORE   GAS-CONDENSATE  CONTINUING DEVELOPMENT   \n",
              "305          ONSHORE              GAS             UNDEVELOPED   \n",
              "306          ONSHORE              OIL       MATURE PRODUCTION   \n",
              "307          ONSHORE              OIL         NEARLY DEPLETED   \n",
              "308          ONSHORE              OIL       MATURE PRODUCTION   \n",
              "\n",
              "    Structural setting  Depth     Reservoir period  ...  \\\n",
              "0             FORELAND   1870        CARBONIFEROUS  ...   \n",
              "1       PASSIVE MARGIN   4843            PALEOGENE  ...   \n",
              "2             FORELAND   6050             JURASSIC  ...   \n",
              "3                 RIFT   8988             JURASSIC  ...   \n",
              "4             FORELAND   9306             DEVONIAN  ...   \n",
              "..                 ...    ...                  ...  ...   \n",
              "304             THRUST   9905  JURASSIC-CRETACEOUS  ...   \n",
              "305           FORELAND   3390             JURASSIC  ...   \n",
              "306           FORELAND  15250            PALEOGENE  ...   \n",
              "307           FORELAND   4300           CRETACEOUS  ...   \n",
              "308           FORELAND   6367           CRETACEOUS  ...   \n",
              "\n",
              "    Structural setting_FORELAND  Structural setting_INTRACRATONIC  \\\n",
              "0                             1                                 0   \n",
              "1                             0                                 0   \n",
              "2                             1                                 0   \n",
              "3                             0                                 0   \n",
              "4                             1                                 0   \n",
              "..                          ...                               ...   \n",
              "304                           0                                 0   \n",
              "305                           1                                 0   \n",
              "306                           1                                 0   \n",
              "307                           1                                 0   \n",
              "308                           1                                 0   \n",
              "\n",
              "     Structural setting_INVERSION  Structural setting_PASSIVE MARGIN  \\\n",
              "0                               0                                  0   \n",
              "1                               0                                  1   \n",
              "2                               0                                  0   \n",
              "3                               0                                  0   \n",
              "4                               0                                  0   \n",
              "..                            ...                                ...   \n",
              "304                             0                                  0   \n",
              "305                             0                                  0   \n",
              "306                             0                                  0   \n",
              "307                             0                                  0   \n",
              "308                             0                                  0   \n",
              "\n",
              "     Structural setting_RIFT  Structural setting_SALT  \\\n",
              "0                          0                        0   \n",
              "1                          0                        0   \n",
              "2                          0                        0   \n",
              "3                          1                        0   \n",
              "4                          0                        0   \n",
              "..                       ...                      ...   \n",
              "304                        0                        0   \n",
              "305                        0                        0   \n",
              "306                        0                        0   \n",
              "307                        0                        0   \n",
              "308                        0                        0   \n",
              "\n",
              "     Structural setting_SUB-SALT  Structural setting_SUB-THRUST  \\\n",
              "0                              0                              0   \n",
              "1                              0                              0   \n",
              "2                              0                              0   \n",
              "3                              0                              0   \n",
              "4                              0                              0   \n",
              "..                           ...                            ...   \n",
              "304                            0                              0   \n",
              "305                            0                              0   \n",
              "306                            0                              0   \n",
              "307                            0                              0   \n",
              "308                            0                              0   \n",
              "\n",
              "     Structural setting_THRUST  Structural setting_WRENCH  \n",
              "0                            0                          0  \n",
              "1                            0                          0  \n",
              "2                            0                          0  \n",
              "3                            0                          0  \n",
              "4                            0                          0  \n",
              "..                         ...                        ...  \n",
              "304                          1                          0  \n",
              "305                          0                          0  \n",
              "306                          0                          0  \n",
              "307                          0                          0  \n",
              "308                          0                          0  \n",
              "\n",
              "[309 rows x 44 columns]"
            ],
            "text/html": [
              "\n",
              "  <div id=\"df-4afd6af7-98bd-455a-8734-3a11272ca4ae\">\n",
              "    <div class=\"colab-df-container\">\n",
              "      <div>\n",
              "<style scoped>\n",
              "    .dataframe tbody tr th:only-of-type {\n",
              "        vertical-align: middle;\n",
              "    }\n",
              "\n",
              "    .dataframe tbody tr th {\n",
              "        vertical-align: top;\n",
              "    }\n",
              "\n",
              "    .dataframe thead th {\n",
              "        text-align: right;\n",
              "    }\n",
              "</style>\n",
              "<table border=\"1\" class=\"dataframe\">\n",
              "  <thead>\n",
              "    <tr style=\"text-align: right;\">\n",
              "      <th></th>\n",
              "      <th>Field name</th>\n",
              "      <th>Reservoir unit</th>\n",
              "      <th>Tectonic regime</th>\n",
              "      <th>Operator company</th>\n",
              "      <th>Onshore/Offshore</th>\n",
              "      <th>Hydrocarbon type</th>\n",
              "      <th>Reservoir status</th>\n",
              "      <th>Structural setting</th>\n",
              "      <th>Depth</th>\n",
              "      <th>Reservoir period</th>\n",
              "      <th>...</th>\n",
              "      <th>Structural setting_FORELAND</th>\n",
              "      <th>Structural setting_INTRACRATONIC</th>\n",
              "      <th>Structural setting_INVERSION</th>\n",
              "      <th>Structural setting_PASSIVE MARGIN</th>\n",
              "      <th>Structural setting_RIFT</th>\n",
              "      <th>Structural setting_SALT</th>\n",
              "      <th>Structural setting_SUB-SALT</th>\n",
              "      <th>Structural setting_SUB-THRUST</th>\n",
              "      <th>Structural setting_THRUST</th>\n",
              "      <th>Structural setting_WRENCH</th>\n",
              "    </tr>\n",
              "  </thead>\n",
              "  <tbody>\n",
              "    <tr>\n",
              "      <th>0</th>\n",
              "      <td>ZHIRNOV</td>\n",
              "      <td>MELEKESKIAN</td>\n",
              "      <td>COMPRESSION/EVAPORITE</td>\n",
              "      <td>NIZHNEVOLZHSKNET</td>\n",
              "      <td>ONSHORE</td>\n",
              "      <td>OIL</td>\n",
              "      <td>DECLINING PRODUCTION</td>\n",
              "      <td>FORELAND</td>\n",
              "      <td>1870</td>\n",
              "      <td>CARBONIFEROUS</td>\n",
              "      <td>...</td>\n",
              "      <td>1</td>\n",
              "      <td>0</td>\n",
              "      <td>0</td>\n",
              "      <td>0</td>\n",
              "      <td>0</td>\n",
              "      <td>0</td>\n",
              "      <td>0</td>\n",
              "      <td>0</td>\n",
              "      <td>0</td>\n",
              "      <td>0</td>\n",
              "    </tr>\n",
              "    <tr>\n",
              "      <th>1</th>\n",
              "      <td>LAGOA PARDA</td>\n",
              "      <td>LAGOA PARDA (URUCUTUCA)</td>\n",
              "      <td>EXTENSION</td>\n",
              "      <td>PETROBRAS</td>\n",
              "      <td>ONSHORE</td>\n",
              "      <td>OIL</td>\n",
              "      <td>NEARLY DEPLETED</td>\n",
              "      <td>PASSIVE MARGIN</td>\n",
              "      <td>4843</td>\n",
              "      <td>PALEOGENE</td>\n",
              "      <td>...</td>\n",
              "      <td>0</td>\n",
              "      <td>0</td>\n",
              "      <td>0</td>\n",
              "      <td>1</td>\n",
              "      <td>0</td>\n",
              "      <td>0</td>\n",
              "      <td>0</td>\n",
              "      <td>0</td>\n",
              "      <td>0</td>\n",
              "      <td>0</td>\n",
              "    </tr>\n",
              "    <tr>\n",
              "      <th>2</th>\n",
              "      <td>ABQAIQ</td>\n",
              "      <td>ARAB D</td>\n",
              "      <td>COMPRESSION/EVAPORITE</td>\n",
              "      <td>SAUDI ARAMCO</td>\n",
              "      <td>ONSHORE</td>\n",
              "      <td>OIL</td>\n",
              "      <td>REJUVENATING</td>\n",
              "      <td>FORELAND</td>\n",
              "      <td>6050</td>\n",
              "      <td>JURASSIC</td>\n",
              "      <td>...</td>\n",
              "      <td>1</td>\n",
              "      <td>0</td>\n",
              "      <td>0</td>\n",
              "      <td>0</td>\n",
              "      <td>0</td>\n",
              "      <td>0</td>\n",
              "      <td>0</td>\n",
              "      <td>0</td>\n",
              "      <td>0</td>\n",
              "      <td>0</td>\n",
              "    </tr>\n",
              "    <tr>\n",
              "      <th>3</th>\n",
              "      <td>MURCHISON</td>\n",
              "      <td>BRENT</td>\n",
              "      <td>EXTENSION</td>\n",
              "      <td>CNR</td>\n",
              "      <td>OFFSHORE</td>\n",
              "      <td>OIL</td>\n",
              "      <td>NEARLY DEPLETED</td>\n",
              "      <td>RIFT</td>\n",
              "      <td>8988</td>\n",
              "      <td>JURASSIC</td>\n",
              "      <td>...</td>\n",
              "      <td>0</td>\n",
              "      <td>0</td>\n",
              "      <td>0</td>\n",
              "      <td>0</td>\n",
              "      <td>1</td>\n",
              "      <td>0</td>\n",
              "      <td>0</td>\n",
              "      <td>0</td>\n",
              "      <td>0</td>\n",
              "      <td>0</td>\n",
              "    </tr>\n",
              "    <tr>\n",
              "      <th>4</th>\n",
              "      <td>WEST PEMBINA</td>\n",
              "      <td>NISKU (PEMBINA L POOL)</td>\n",
              "      <td>COMPRESSION</td>\n",
              "      <td>NUMEROUS</td>\n",
              "      <td>ONSHORE</td>\n",
              "      <td>OIL</td>\n",
              "      <td>UNKNOWN</td>\n",
              "      <td>FORELAND</td>\n",
              "      <td>9306</td>\n",
              "      <td>DEVONIAN</td>\n",
              "      <td>...</td>\n",
              "      <td>1</td>\n",
              "      <td>0</td>\n",
              "      <td>0</td>\n",
              "      <td>0</td>\n",
              "      <td>0</td>\n",
              "      <td>0</td>\n",
              "      <td>0</td>\n",
              "      <td>0</td>\n",
              "      <td>0</td>\n",
              "      <td>0</td>\n",
              "    </tr>\n",
              "    <tr>\n",
              "      <th>...</th>\n",
              "      <td>...</td>\n",
              "      <td>...</td>\n",
              "      <td>...</td>\n",
              "      <td>...</td>\n",
              "      <td>...</td>\n",
              "      <td>...</td>\n",
              "      <td>...</td>\n",
              "      <td>...</td>\n",
              "      <td>...</td>\n",
              "      <td>...</td>\n",
              "      <td>...</td>\n",
              "      <td>...</td>\n",
              "      <td>...</td>\n",
              "      <td>...</td>\n",
              "      <td>...</td>\n",
              "      <td>...</td>\n",
              "      <td>...</td>\n",
              "      <td>...</td>\n",
              "      <td>...</td>\n",
              "      <td>...</td>\n",
              "      <td>...</td>\n",
              "    </tr>\n",
              "    <tr>\n",
              "      <th>304</th>\n",
              "      <td>HIDES</td>\n",
              "      <td>IMBURU-TORO</td>\n",
              "      <td>COMPRESSION</td>\n",
              "      <td>OIL SEARCH LTD</td>\n",
              "      <td>ONSHORE</td>\n",
              "      <td>GAS-CONDENSATE</td>\n",
              "      <td>CONTINUING DEVELOPMENT</td>\n",
              "      <td>THRUST</td>\n",
              "      <td>9905</td>\n",
              "      <td>JURASSIC-CRETACEOUS</td>\n",
              "      <td>...</td>\n",
              "      <td>0</td>\n",
              "      <td>0</td>\n",
              "      <td>0</td>\n",
              "      <td>0</td>\n",
              "      <td>0</td>\n",
              "      <td>0</td>\n",
              "      <td>0</td>\n",
              "      <td>0</td>\n",
              "      <td>1</td>\n",
              "      <td>0</td>\n",
              "    </tr>\n",
              "    <tr>\n",
              "      <th>305</th>\n",
              "      <td>DRAKE POINT</td>\n",
              "      <td>DRAKE POINT-INTREPID INLET</td>\n",
              "      <td>COMPRESSION/EVAPORITE/EXTENSION/LINKED</td>\n",
              "      <td>PANARCTIC OILS</td>\n",
              "      <td>ONSHORE</td>\n",
              "      <td>GAS</td>\n",
              "      <td>UNDEVELOPED</td>\n",
              "      <td>FORELAND</td>\n",
              "      <td>3390</td>\n",
              "      <td>JURASSIC</td>\n",
              "      <td>...</td>\n",
              "      <td>1</td>\n",
              "      <td>0</td>\n",
              "      <td>0</td>\n",
              "      <td>0</td>\n",
              "      <td>0</td>\n",
              "      <td>0</td>\n",
              "      <td>0</td>\n",
              "      <td>0</td>\n",
              "      <td>0</td>\n",
              "      <td>0</td>\n",
              "    </tr>\n",
              "    <tr>\n",
              "      <th>306</th>\n",
              "      <td>ALTAMONT-BLUEBELL</td>\n",
              "      <td>GREEN RIVER AND COLTON/WASATCH</td>\n",
              "      <td>COMPRESSION</td>\n",
              "      <td>NUMEROUS</td>\n",
              "      <td>ONSHORE</td>\n",
              "      <td>OIL</td>\n",
              "      <td>MATURE PRODUCTION</td>\n",
              "      <td>FORELAND</td>\n",
              "      <td>15250</td>\n",
              "      <td>PALEOGENE</td>\n",
              "      <td>...</td>\n",
              "      <td>1</td>\n",
              "      <td>0</td>\n",
              "      <td>0</td>\n",
              "      <td>0</td>\n",
              "      <td>0</td>\n",
              "      <td>0</td>\n",
              "      <td>0</td>\n",
              "      <td>0</td>\n",
              "      <td>0</td>\n",
              "      <td>0</td>\n",
              "    </tr>\n",
              "    <tr>\n",
              "      <th>307</th>\n",
              "      <td>BELL CREEK</td>\n",
              "      <td>MUDDY</td>\n",
              "      <td>COMPRESSION</td>\n",
              "      <td>SAMUEL GARY</td>\n",
              "      <td>ONSHORE</td>\n",
              "      <td>OIL</td>\n",
              "      <td>NEARLY DEPLETED</td>\n",
              "      <td>FORELAND</td>\n",
              "      <td>4300</td>\n",
              "      <td>CRETACEOUS</td>\n",
              "      <td>...</td>\n",
              "      <td>1</td>\n",
              "      <td>0</td>\n",
              "      <td>0</td>\n",
              "      <td>0</td>\n",
              "      <td>0</td>\n",
              "      <td>0</td>\n",
              "      <td>0</td>\n",
              "      <td>0</td>\n",
              "      <td>0</td>\n",
              "      <td>0</td>\n",
              "    </tr>\n",
              "    <tr>\n",
              "      <th>308</th>\n",
              "      <td>WELL DRAW</td>\n",
              "      <td>MESAVERDE (TEAPOT SAND)</td>\n",
              "      <td>COMPRESSION</td>\n",
              "      <td>MATRIX PRODUCTION AND OTHERS</td>\n",
              "      <td>ONSHORE</td>\n",
              "      <td>OIL</td>\n",
              "      <td>MATURE PRODUCTION</td>\n",
              "      <td>FORELAND</td>\n",
              "      <td>6367</td>\n",
              "      <td>CRETACEOUS</td>\n",
              "      <td>...</td>\n",
              "      <td>1</td>\n",
              "      <td>0</td>\n",
              "      <td>0</td>\n",
              "      <td>0</td>\n",
              "      <td>0</td>\n",
              "      <td>0</td>\n",
              "      <td>0</td>\n",
              "      <td>0</td>\n",
              "      <td>0</td>\n",
              "      <td>0</td>\n",
              "    </tr>\n",
              "  </tbody>\n",
              "</table>\n",
              "<p>309 rows × 44 columns</p>\n",
              "</div>\n",
              "      <button class=\"colab-df-convert\" onclick=\"convertToInteractive('df-4afd6af7-98bd-455a-8734-3a11272ca4ae')\"\n",
              "              title=\"Convert this dataframe to an interactive table.\"\n",
              "              style=\"display:none;\">\n",
              "        \n",
              "  <svg xmlns=\"http://www.w3.org/2000/svg\" height=\"24px\"viewBox=\"0 0 24 24\"\n",
              "       width=\"24px\">\n",
              "    <path d=\"M0 0h24v24H0V0z\" fill=\"none\"/>\n",
              "    <path d=\"M18.56 5.44l.94 2.06.94-2.06 2.06-.94-2.06-.94-.94-2.06-.94 2.06-2.06.94zm-11 1L8.5 8.5l.94-2.06 2.06-.94-2.06-.94L8.5 2.5l-.94 2.06-2.06.94zm10 10l.94 2.06.94-2.06 2.06-.94-2.06-.94-.94-2.06-.94 2.06-2.06.94z\"/><path d=\"M17.41 7.96l-1.37-1.37c-.4-.4-.92-.59-1.43-.59-.52 0-1.04.2-1.43.59L10.3 9.45l-7.72 7.72c-.78.78-.78 2.05 0 2.83L4 21.41c.39.39.9.59 1.41.59.51 0 1.02-.2 1.41-.59l7.78-7.78 2.81-2.81c.8-.78.8-2.07 0-2.86zM5.41 20L4 18.59l7.72-7.72 1.47 1.35L5.41 20z\"/>\n",
              "  </svg>\n",
              "      </button>\n",
              "      \n",
              "  <style>\n",
              "    .colab-df-container {\n",
              "      display:flex;\n",
              "      flex-wrap:wrap;\n",
              "      gap: 12px;\n",
              "    }\n",
              "\n",
              "    .colab-df-convert {\n",
              "      background-color: #E8F0FE;\n",
              "      border: none;\n",
              "      border-radius: 50%;\n",
              "      cursor: pointer;\n",
              "      display: none;\n",
              "      fill: #1967D2;\n",
              "      height: 32px;\n",
              "      padding: 0 0 0 0;\n",
              "      width: 32px;\n",
              "    }\n",
              "\n",
              "    .colab-df-convert:hover {\n",
              "      background-color: #E2EBFA;\n",
              "      box-shadow: 0px 1px 2px rgba(60, 64, 67, 0.3), 0px 1px 3px 1px rgba(60, 64, 67, 0.15);\n",
              "      fill: #174EA6;\n",
              "    }\n",
              "\n",
              "    [theme=dark] .colab-df-convert {\n",
              "      background-color: #3B4455;\n",
              "      fill: #D2E3FC;\n",
              "    }\n",
              "\n",
              "    [theme=dark] .colab-df-convert:hover {\n",
              "      background-color: #434B5C;\n",
              "      box-shadow: 0px 1px 3px 1px rgba(0, 0, 0, 0.15);\n",
              "      filter: drop-shadow(0px 1px 2px rgba(0, 0, 0, 0.3));\n",
              "      fill: #FFFFFF;\n",
              "    }\n",
              "  </style>\n",
              "\n",
              "      <script>\n",
              "        const buttonEl =\n",
              "          document.querySelector('#df-4afd6af7-98bd-455a-8734-3a11272ca4ae button.colab-df-convert');\n",
              "        buttonEl.style.display =\n",
              "          google.colab.kernel.accessAllowed ? 'block' : 'none';\n",
              "\n",
              "        async function convertToInteractive(key) {\n",
              "          const element = document.querySelector('#df-4afd6af7-98bd-455a-8734-3a11272ca4ae');\n",
              "          const dataTable =\n",
              "            await google.colab.kernel.invokeFunction('convertToInteractive',\n",
              "                                                     [key], {});\n",
              "          if (!dataTable) return;\n",
              "\n",
              "          const docLinkHtml = 'Like what you see? Visit the ' +\n",
              "            '<a target=\"_blank\" href=https://colab.research.google.com/notebooks/data_table.ipynb>data table notebook</a>'\n",
              "            + ' to learn more about interactive tables.';\n",
              "          element.innerHTML = '';\n",
              "          dataTable['output_type'] = 'display_data';\n",
              "          await google.colab.output.renderOutput(dataTable, element);\n",
              "          const docLink = document.createElement('div');\n",
              "          docLink.innerHTML = docLinkHtml;\n",
              "          element.appendChild(docLink);\n",
              "        }\n",
              "      </script>\n",
              "    </div>\n",
              "  </div>\n",
              "  "
            ]
          },
          "metadata": {},
          "execution_count": 11
        }
      ]
    },
    {
      "cell_type": "code",
      "source": [
        "train_full = pd.get_dummies(train_full, columns=['Hydrocarbon type', 'Reservoir status', 'Reservoir period', 'Lithology'])\n",
        "\n",
        "train_full.drop(['Tectonic regime'], axis=1, inplace=True)\n",
        "train_full.drop(['Structural setting'], axis=1, inplace=True)\n",
        "train_full.shape"
      ],
      "metadata": {
        "colab": {
          "base_uri": "https://localhost:8080/"
        },
        "id": "5U0mmjAz4jt-",
        "outputId": "41f3b21c-bd10-4ac0-b833-bd63c2d3b937"
      },
      "execution_count": 12,
      "outputs": [
        {
          "output_type": "execute_result",
          "data": {
            "text/plain": [
              "(309, 90)"
            ]
          },
          "metadata": {},
          "execution_count": 12
        }
      ]
    },
    {
      "cell_type": "code",
      "source": [
        "train_full = train_full.drop(columns=['Field name', 'Reservoir unit', 'Operator company'])\n",
        "train_full.shape"
      ],
      "metadata": {
        "colab": {
          "base_uri": "https://localhost:8080/"
        },
        "id": "JUffdzEV4t5R",
        "outputId": "c65764e8-2876-4ff9-80e6-fe2b4ba1beab"
      },
      "execution_count": 13,
      "outputs": [
        {
          "output_type": "execute_result",
          "data": {
            "text/plain": [
              "(309, 87)"
            ]
          },
          "metadata": {},
          "execution_count": 13
        }
      ]
    },
    {
      "cell_type": "code",
      "source": [
        "from sklearn import preprocessing\n",
        "\n",
        "le = preprocessing.LabelEncoder()\n",
        "train_full['Onshore/Offshore'] = le.fit_transform(train_full['Onshore/Offshore'])\n",
        "\n",
        "train_full.loc[:, train_full.dtypes == object].columns"
      ],
      "metadata": {
        "colab": {
          "base_uri": "https://localhost:8080/"
        },
        "id": "WxRvwD8Q44Jc",
        "outputId": "0b950a27-8ab1-4649-cb4d-e641a0f165ec"
      },
      "execution_count": 14,
      "outputs": [
        {
          "output_type": "execute_result",
          "data": {
            "text/plain": [
              "Index([], dtype='object')"
            ]
          },
          "metadata": {},
          "execution_count": 14
        }
      ]
    },
    {
      "cell_type": "code",
      "source": [
        "mapping = dict(zip(le.classes_, range(len(le.classes_))))\n",
        "mapping"
      ],
      "metadata": {
        "colab": {
          "base_uri": "https://localhost:8080/"
        },
        "id": "kkvUAn8O5F6V",
        "outputId": "74814e31-b320-4584-e396-a063ea089c25"
      },
      "execution_count": 15,
      "outputs": [
        {
          "output_type": "execute_result",
          "data": {
            "text/plain": [
              "{'OFFSHORE': 0, 'ONSHORE': 1, 'ONSHORE-OFFSHORE': 2}"
            ]
          },
          "metadata": {},
          "execution_count": 15
        }
      ]
    },
    {
      "cell_type": "markdown",
      "source": [
        "### Тестовый набор данных"
      ],
      "metadata": {
        "id": "yTBvDD145S1D"
      }
    },
    {
      "cell_type": "code",
      "source": [
        "test = test.drop(columns=['Country', 'Basin name', 'Region', 'Longitude', 'Latitude'])\n",
        "test.isna().sum()"
      ],
      "metadata": {
        "colab": {
          "base_uri": "https://localhost:8080/"
        },
        "id": "lMGQTBxp5U2W",
        "outputId": "e6e1fb36-8ad7-4d87-90c3-92ff499a72e0"
      },
      "execution_count": 16,
      "outputs": [
        {
          "output_type": "execute_result",
          "data": {
            "text/plain": [
              "Field name                        0\n",
              "Reservoir unit                    0\n",
              "Tectonic regime                   0\n",
              "Operator company                  0\n",
              "Hydrocarbon type                  0\n",
              "Reservoir status                  0\n",
              "Structural setting                0\n",
              "Depth                             0\n",
              "Reservoir period                  0\n",
              "Lithology                         0\n",
              "Thickness (gross average ft)      0\n",
              "Thickness (net pay average ft)    0\n",
              "Porosity                          0\n",
              "Permeability                      0\n",
              "dtype: int64"
            ]
          },
          "metadata": {},
          "execution_count": 16
        }
      ]
    },
    {
      "cell_type": "code",
      "source": [
        "tmp = test.copy()\n",
        "tmp = tmp['Tectonic regime'].str.get_dummies('/').add_prefix('regime_').reset_index(drop=True)\n",
        "test_full = pd.concat([test, tmp], axis=1)"
      ],
      "metadata": {
        "id": "aigtfW8J5eEB"
      },
      "execution_count": 17,
      "outputs": []
    },
    {
      "cell_type": "code",
      "source": [
        "tmp = test.copy()\n",
        "tmp = tmp['Structural setting'].str.get_dummies('/').add_prefix('Structural setting_').reset_index(drop=True)\n",
        "test_full = pd.concat([test_full, tmp], axis=1)"
      ],
      "metadata": {
        "id": "VOPT8xYM5l5c"
      },
      "execution_count": 18,
      "outputs": []
    },
    {
      "cell_type": "code",
      "source": [
        "test_full = pd.get_dummies(test_full, columns=['Hydrocarbon type', 'Reservoir status', 'Reservoir period', 'Lithology'])\n",
        "\n",
        "test_full.drop(['Tectonic regime'], axis=1, inplace=True)\n",
        "test_full.drop(['Structural setting'], axis=1, inplace=True)\n",
        "test_full.shape"
      ],
      "metadata": {
        "colab": {
          "base_uri": "https://localhost:8080/"
        },
        "id": "u1I3RxG25rbH",
        "outputId": "e37a49b3-2ab1-46ba-ca44-b0ddc2d7d0ae"
      },
      "execution_count": 19,
      "outputs": [
        {
          "output_type": "execute_result",
          "data": {
            "text/plain": [
              "(133, 89)"
            ]
          },
          "metadata": {},
          "execution_count": 19
        }
      ]
    },
    {
      "cell_type": "code",
      "source": [
        "test_full = test_full.drop(columns=['Field name', 'Reservoir unit', 'Operator company'])\n",
        "test_full.shape"
      ],
      "metadata": {
        "colab": {
          "base_uri": "https://localhost:8080/"
        },
        "id": "w2wHSKan6Ajq",
        "outputId": "113d5533-6691-4498-e02e-75de8d460b39"
      },
      "execution_count": 20,
      "outputs": [
        {
          "output_type": "execute_result",
          "data": {
            "text/plain": [
              "(133, 86)"
            ]
          },
          "metadata": {},
          "execution_count": 20
        }
      ]
    },
    {
      "cell_type": "code",
      "source": [
        "train_col = train_full.columns\n",
        "test_col = test_full.columns\n",
        "cols_int = set(train_col) & set(test_col)\n",
        "len(cols_int)"
      ],
      "metadata": {
        "colab": {
          "base_uri": "https://localhost:8080/"
        },
        "id": "cMIsCVn-6DLl",
        "outputId": "6bc6adcc-4e89-40a7-d490-aa250b631aa6"
      },
      "execution_count": 21,
      "outputs": [
        {
          "output_type": "execute_result",
          "data": {
            "text/plain": [
              "74"
            ]
          },
          "metadata": {},
          "execution_count": 21
        }
      ]
    },
    {
      "cell_type": "code",
      "source": [
        "cols_int"
      ],
      "metadata": {
        "colab": {
          "base_uri": "https://localhost:8080/"
        },
        "id": "aFuhxVZ36eTe",
        "outputId": "e207d7aa-04a3-413c-c386-a61d838a1d57"
      },
      "execution_count": 22,
      "outputs": [
        {
          "output_type": "execute_result",
          "data": {
            "text/plain": [
              "{'Depth',\n",
              " 'Hydrocarbon type_GAS',\n",
              " 'Hydrocarbon type_GAS-CONDENSATE',\n",
              " 'Hydrocarbon type_OIL',\n",
              " 'Lithology_CHALK',\n",
              " 'Lithology_CHALKY LIMESTONE',\n",
              " 'Lithology_CONGLOMERATE',\n",
              " 'Lithology_DOLOMITE',\n",
              " 'Lithology_DOLOMITIC LIMESTONE',\n",
              " 'Lithology_LIMESTONE',\n",
              " 'Lithology_LOW-RESISTIVITY SANDSTONE',\n",
              " 'Lithology_SANDSTONE',\n",
              " 'Lithology_SHALY SANDSTONE',\n",
              " 'Lithology_SILTSTONE',\n",
              " 'Lithology_THINLY-BEDDED SANDSTONE',\n",
              " 'Lithology_VOLCANICS',\n",
              " 'Permeability',\n",
              " 'Porosity',\n",
              " 'Reservoir period_CARBONIFEROUS',\n",
              " 'Reservoir period_CARBONIFEROUS-PERMIAN',\n",
              " 'Reservoir period_CRETACEOUS',\n",
              " 'Reservoir period_CRETACEOUS-PALEOGENE',\n",
              " 'Reservoir period_DEVONIAN',\n",
              " 'Reservoir period_JURASSIC',\n",
              " 'Reservoir period_NEOGENE',\n",
              " 'Reservoir period_ORDOVICIAN',\n",
              " 'Reservoir period_PALEOGENE',\n",
              " 'Reservoir period_PALEOGENE-NEOGENE',\n",
              " 'Reservoir period_PERMIAN',\n",
              " 'Reservoir period_PROTEROZOIC',\n",
              " 'Reservoir period_SILURIAN',\n",
              " 'Reservoir period_TRIASSIC',\n",
              " 'Reservoir period_TRIASSIC-JURASSIC',\n",
              " 'Reservoir status_CONTINUING DEVELOPMENT',\n",
              " 'Reservoir status_DECLINING PRODUCTION',\n",
              " 'Reservoir status_DEVELOPING',\n",
              " 'Reservoir status_MATURE PRODUCTION',\n",
              " 'Reservoir status_NEARLY DEPLETED',\n",
              " 'Reservoir status_PLATEAU PRODUCTION',\n",
              " 'Reservoir status_REJUVENATING',\n",
              " 'Reservoir status_SECOND PLATEAU PRODUTION',\n",
              " 'Reservoir status_TEMPORARILY SHUT-IN',\n",
              " 'Reservoir status_UNDEVELOPED',\n",
              " 'Reservoir status_UNKNOWN',\n",
              " 'Structural setting_BACKARC',\n",
              " 'Structural setting_DELTA',\n",
              " 'Structural setting_FOREARC',\n",
              " 'Structural setting_FORELAND',\n",
              " 'Structural setting_INTRACRATONIC',\n",
              " 'Structural setting_INVERSION',\n",
              " 'Structural setting_PASSIVE MARGIN',\n",
              " 'Structural setting_RIFT',\n",
              " 'Structural setting_SALT',\n",
              " 'Structural setting_SUB-SALT',\n",
              " 'Structural setting_SUB-THRUST',\n",
              " 'Structural setting_THRUST',\n",
              " 'Structural setting_WRENCH',\n",
              " 'Thickness (gross average ft)',\n",
              " 'Thickness (net pay average ft)',\n",
              " 'regime_BASEMENT-I',\n",
              " 'regime_COMPRESSION',\n",
              " 'regime_DIAPIR',\n",
              " 'regime_EROSION',\n",
              " 'regime_EVAPORITE',\n",
              " 'regime_EXTENSION',\n",
              " 'regime_GRAVITY',\n",
              " 'regime_INVERSION',\n",
              " 'regime_LINKED',\n",
              " 'regime_SHALE',\n",
              " 'regime_STRIKE-SLIP',\n",
              " 'regime_SYNSEDIMENTATION',\n",
              " 'regime_TRANSPRESSION',\n",
              " 'regime_TRANSTENSION',\n",
              " 'regime_UPLIFT'}"
            ]
          },
          "metadata": {},
          "execution_count": 22
        }
      ]
    },
    {
      "cell_type": "code",
      "source": [
        "y = train_full['Onshore/Offshore']\n",
        "train_full = train_full[cols_int]\n",
        "test_full = test_full[cols_int]"
      ],
      "metadata": {
        "id": "p-I_RDwF6fy_"
      },
      "execution_count": 23,
      "outputs": []
    },
    {
      "cell_type": "code",
      "source": [
        "print(train_full.shape)\n",
        "print(test_full.shape)"
      ],
      "metadata": {
        "colab": {
          "base_uri": "https://localhost:8080/"
        },
        "id": "frblwmZ_KGA2",
        "outputId": "40e493d4-fa8e-4f34-d8f6-f6661bd9e45e"
      },
      "execution_count": 24,
      "outputs": [
        {
          "output_type": "stream",
          "name": "stdout",
          "text": [
            "(309, 74)\n",
            "(133, 74)\n"
          ]
        }
      ]
    },
    {
      "cell_type": "code",
      "source": [
        "corr = train_full.corr()\n",
        "\n",
        "correlated_features = set()\n",
        "\n",
        "for i in range(len(corr.columns)):\n",
        "    for j in range(i):\n",
        "        if abs(corr.iloc[i, j]) > 0.8:\n",
        "            colname = corr.columns[i]\n",
        "            correlated_features.add(colname)\n",
        "\n",
        "correlated_features"
      ],
      "metadata": {
        "colab": {
          "base_uri": "https://localhost:8080/"
        },
        "id": "sIymnOkx6mD6",
        "outputId": "ed5fe026-1002-4cf5-d82d-242086bc0165"
      },
      "execution_count": 25,
      "outputs": [
        {
          "output_type": "execute_result",
          "data": {
            "text/plain": [
              "{'regime_STRIKE-SLIP'}"
            ]
          },
          "metadata": {},
          "execution_count": 25
        }
      ]
    },
    {
      "cell_type": "code",
      "source": [
        "train_full.drop(columns=['regime_BASEMENT-I'], inplace=True)\n",
        "test_full.drop(columns=['regime_BASEMENT-I'], inplace=True)"
      ],
      "metadata": {
        "id": "XwRdVz2O62wy"
      },
      "execution_count": 26,
      "outputs": []
    },
    {
      "cell_type": "code",
      "source": [
        "print(test_full.shape)\n",
        "print(train_full.shape)"
      ],
      "metadata": {
        "colab": {
          "base_uri": "https://localhost:8080/"
        },
        "id": "q0PowZ3m7Bj7",
        "outputId": "a693b5ae-ece0-4794-bc66-35413ff43267"
      },
      "execution_count": 27,
      "outputs": [
        {
          "output_type": "stream",
          "name": "stdout",
          "text": [
            "(133, 73)\n",
            "(309, 73)\n"
          ]
        }
      ]
    },
    {
      "cell_type": "code",
      "source": [
        "X = train_full.copy()"
      ],
      "metadata": {
        "id": "32LuiqnH7NRA"
      },
      "execution_count": 28,
      "outputs": []
    },
    {
      "cell_type": "code",
      "source": [
        "print(X.shape) \n",
        "print(y.shape)"
      ],
      "metadata": {
        "colab": {
          "base_uri": "https://localhost:8080/"
        },
        "id": "QmHu3G_gOPsj",
        "outputId": "ae97049c-e9ee-4372-e007-89fb332754b3"
      },
      "execution_count": 29,
      "outputs": [
        {
          "output_type": "stream",
          "name": "stdout",
          "text": [
            "(309, 73)\n",
            "(309,)\n"
          ]
        }
      ]
    },
    {
      "cell_type": "markdown",
      "source": [
        "## Обучение модели"
      ],
      "metadata": {
        "id": "PwiQR6BO7N_S"
      }
    },
    {
      "cell_type": "code",
      "source": [
        "from sklearn.model_selection import train_test_split\n",
        "\n",
        "X_train, X_test, y_train, y_test = train_test_split(X, y, test_size=0.3)\n",
        "\n",
        "print(f'Train dataset size: {X_train.shape}, {y_train.shape}')\n",
        "print(f'Train dataset size: {X_test.shape}, {y_test.shape}')"
      ],
      "metadata": {
        "colab": {
          "base_uri": "https://localhost:8080/"
        },
        "id": "bP1Bk6hG7Tkk",
        "outputId": "66df4cc4-bfe7-48ad-e989-f2e4c78610c6"
      },
      "execution_count": 30,
      "outputs": [
        {
          "output_type": "stream",
          "name": "stdout",
          "text": [
            "Train dataset size: (216, 73), (216,)\n",
            "Train dataset size: (93, 73), (93,)\n"
          ]
        }
      ]
    },
    {
      "cell_type": "code",
      "source": [
        "%%time\n",
        "from sklearn.ensemble import RandomForestClassifier\n",
        "from sklearn.metrics import accuracy_score\n",
        "\n",
        "clf = RandomForestClassifier(n_estimators=100, random_state=42)\n",
        "\n",
        "clf.fit(X_train, y_train)\n",
        "y_pred = clf.predict(X_test)\n",
        "\n",
        "print(accuracy_score(y_test, y_pred))"
      ],
      "metadata": {
        "colab": {
          "base_uri": "https://localhost:8080/"
        },
        "id": "AE7M9BzqLojp",
        "outputId": "db3296ab-e54c-474c-a185-b2d4d7a4a819"
      },
      "execution_count": 31,
      "outputs": [
        {
          "output_type": "stream",
          "name": "stdout",
          "text": [
            "0.8494623655913979\n",
            "CPU times: user 223 ms, sys: 21.5 ms, total: 244 ms\n",
            "Wall time: 477 ms\n"
          ]
        }
      ]
    },
    {
      "cell_type": "code",
      "source": [
        "importances = clf.feature_importances_\n",
        "\n",
        "forest_importances = pd.Series(importances, index=X.columns)\n",
        "\n",
        "forest_importances = forest_importances.sort_values()\n",
        "\n",
        "plt.figure(figsize=(10,10))\n",
        "forest_importances.plot(kind='barh')\n",
        "plt.show()"
      ],
      "metadata": {
        "colab": {
          "base_uri": "https://localhost:8080/",
          "height": 458
        },
        "id": "q_1P2eG8QMjO",
        "outputId": "ea466ed2-ed02-4c9d-9048-006b986a0d86"
      },
      "execution_count": 32,
      "outputs": [
        {
          "output_type": "display_data",
          "data": {
            "text/plain": [
              "<Figure size 720x720 with 1 Axes>"
            ],
            "image/png": "[encoded data removed]"
          },
          "metadata": {
            "needs_background": "light"
          }
        }
      ]
    },
    {
      "cell_type": "code",
      "source": [
        "len(forest_importances[forest_importances > 0.0011181362767552299])"
      ],
      "metadata": {
        "colab": {
          "base_uri": "https://localhost:8080/"
        },
        "id": "k5W1zd2zRZeH",
        "outputId": "2f82049f-e953-43b9-f6f9-bd007be6bfef"
      },
      "execution_count": 33,
      "outputs": [
        {
          "output_type": "execute_result",
          "data": {
            "text/plain": [
              "60"
            ]
          },
          "metadata": {},
          "execution_count": 33
        }
      ]
    },
    {
      "cell_type": "code",
      "source": [
        "train_full = train_full[forest_importances[forest_importances > 0.0011181362767552299].index]\n",
        "test_full = test_full[forest_importances[forest_importances > 0.0011181362767552299].index]\n",
        "\n",
        "X = train_full.copy()\n",
        "\n",
        "print(X.shape) \n",
        "print(y.shape)"
      ],
      "metadata": {
        "colab": {
          "base_uri": "https://localhost:8080/"
        },
        "id": "N_WT2yRlQ6vv",
        "outputId": "e3d5742e-cce2-41f3-827d-5f4662e4afe7"
      },
      "execution_count": 34,
      "outputs": [
        {
          "output_type": "stream",
          "name": "stdout",
          "text": [
            "(309, 60)\n",
            "(309,)\n"
          ]
        }
      ]
    },
    {
      "cell_type": "code",
      "source": [
        "from sklearn.model_selection import train_test_split\n",
        "\n",
        "X_train, X_test, y_train, y_test = train_test_split(X, y, test_size=0.3)\n",
        "\n",
        "print(f'Train dataset size: {X_train.shape}, {y_train.shape}')\n",
        "print(f'Train dataset size: {X_test.shape}, {y_test.shape}')"
      ],
      "metadata": {
        "colab": {
          "base_uri": "https://localhost:8080/"
        },
        "id": "ec1Ew-2qREWh",
        "outputId": "cae1636a-8b37-4c78-918d-92faedb28514"
      },
      "execution_count": 35,
      "outputs": [
        {
          "output_type": "stream",
          "name": "stdout",
          "text": [
            "Train dataset size: (216, 60), (216,)\n",
            "Train dataset size: (93, 60), (93,)\n"
          ]
        }
      ]
    },
    {
      "cell_type": "code",
      "source": [
        "%%time\n",
        "from sklearn.ensemble import RandomForestClassifier\n",
        "from sklearn.metrics import accuracy_score\n",
        "\n",
        "clf = RandomForestClassifier(n_estimators=100, random_state=42)\n",
        "\n",
        "clf.fit(X_train, y_train)\n",
        "y_pred = clf.predict(X_test)\n",
        "\n",
        "print(accuracy_score(y_test, y_pred))"
      ],
      "metadata": {
        "colab": {
          "base_uri": "https://localhost:8080/"
        },
        "id": "platsWK0QsHK",
        "outputId": "827e49db-409c-4fd4-f906-a2fc43bed747"
      },
      "execution_count": 36,
      "outputs": [
        {
          "output_type": "stream",
          "name": "stdout",
          "text": [
            "0.9032258064516129\n",
            "CPU times: user 194 ms, sys: 100 µs, total: 194 ms\n",
            "Wall time: 210 ms\n"
          ]
        }
      ]
    },
    {
      "cell_type": "code",
      "source": [
        "mapping"
      ],
      "metadata": {
        "colab": {
          "base_uri": "https://localhost:8080/"
        },
        "id": "nKyp5w_JMTeh",
        "outputId": "d1d0d4d6-444f-4791-c36b-87d2b1504a01"
      },
      "execution_count": 37,
      "outputs": [
        {
          "output_type": "execute_result",
          "data": {
            "text/plain": [
              "{'OFFSHORE': 0, 'ONSHORE': 1, 'ONSHORE-OFFSHORE': 2}"
            ]
          },
          "metadata": {},
          "execution_count": 37
        }
      ]
    },
    {
      "cell_type": "code",
      "source": [
        "inv_map = {v: k for k, v in mapping.items()}\n",
        "inv_map"
      ],
      "metadata": {
        "colab": {
          "base_uri": "https://localhost:8080/"
        },
        "id": "l-zV-ZwWMdXh",
        "outputId": "9aebcf1e-9d00-4f72-a4e3-54833ece7b50"
      },
      "execution_count": 38,
      "outputs": [
        {
          "output_type": "execute_result",
          "data": {
            "text/plain": [
              "{0: 'OFFSHORE', 1: 'ONSHORE', 2: 'ONSHORE-OFFSHORE'}"
            ]
          },
          "metadata": {},
          "execution_count": 38
        }
      ]
    },
    {
      "cell_type": "code",
      "source": [
        "y_test_pred = clf.predict(test_full)\n",
        "\n",
        "y_pred_test = pd.DataFrame(y_test_pred, columns=['Onshore/Offshore'])\n",
        "y_pred_test = y_pred_test.reset_index()\n",
        "\n",
        "y_pred_test['Onshore/Offshore'] = y_pred_test['Onshore/Offshore'].map(inv_map).fillna(y_pred_test['Onshore/Offshore'])\n",
        "\n",
        "y_pred_test.to_csv(\"solution.csv\", index=False)\n",
        "\n",
        "# files.download(\"solution.csv\")"
      ],
      "metadata": {
        "id": "UvDQQjzvL3T6"
      },
      "execution_count": 40,
      "outputs": []
    },
    {
      "cell_type": "code",
      "source": [
        ""
      ],
      "metadata": {
        "id": "eFVZ3qFi9gOA"
      },
      "execution_count": null,
      "outputs": []
    }
  ]
}